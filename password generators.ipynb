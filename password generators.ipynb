{
  "nbformat": 4,
  "nbformat_minor": 0,
  "metadata": {
    "colab": {
      "provenance": []
    },
    "kernelspec": {
      "name": "python3",
      "display_name": "Python 3"
    },
    "language_info": {
      "name": "python"
    }
  },
  "cells": [
    {
      "cell_type": "markdown",
      "source": [
        "# Create a Password generator (Python)"
      ],
      "metadata": {
        "id": "97XdIsv-Ly8P"
      }
    },
    {
      "cell_type": "markdown",
      "source": [
        " **Using**\n",
        "\n",
        " import random library\n",
        "\n",
        " input users\n",
        "\n",
        " loops\n",
        "\n",
        " print statements"
      ],
      "metadata": {
        "id": "uwntkfSWL8Np"
      }
    },
    {
      "cell_type": "code",
      "execution_count": 1,
      "metadata": {
        "colab": {
          "base_uri": "https://localhost:8080/"
        },
        "id": "xRyFQ-YtLxQM",
        "outputId": "9fc71432-8360-4736-ada9-b0706536dcf0"
      },
      "outputs": [
        {
          "name": "stdout",
          "output_type": "stream",
          "text": [
            "enter you length of the password: 9\n",
            "?RlywCJh6\n",
            "Do you want to create the password again? yes\n",
            "enter you length of the password: 5\n",
            "f^Be7\n",
            "Do you want to create the password again? h\n",
            "enter you length of the password: 7\n",
            "aSx4b1N\n",
            "Do you want to create the password again? no\n"
          ]
        }
      ],
      "source": [
        "import random\n",
        "while True:\n",
        "    character = \"abcdefghijklmnopqrestuvwxyz1234567890ABCDEFGHIJKLMNOPQRESTUVWXYZ!@#$%^&*()_-<>?/\"\n",
        "    length = int(input(\"enter you length of the password: \"))\n",
        "    password =  \"\"\n",
        "    for i in range(length):\n",
        "        password+= random.choice(character)\n",
        "    print(password)\n",
        "    user_name = input(\"Do you want to create the password again? \", )\n",
        "    if user_name == \"no\" and \"No\":\n",
        "        break"
      ]
    },
    {
      "cell_type": "code",
      "source": [],
      "metadata": {
        "id": "EAELMhQkMSmR"
      },
      "execution_count": null,
      "outputs": []
    }
  ]
}